{
 "cells": [
  {
   "cell_type": "markdown",
   "metadata": {},
   "source": [
    "# 数据搜素服务"
   ]
  },
  {
   "cell_type": "markdown",
   "metadata": {},
   "source": [
    "geogenius 提供了Catalog类来进行数据的搜素，搜素模式包括id搜素，条件检索"
   ]
  },
  {
   "cell_type": "markdown",
   "metadata": {},
   "source": [
    "## 1.ID搜索\n",
    "\n",
    "通过Catalog类提供的`get()`方法，传入*OBSTiff*, *S3Tiff*, 或者*landsat8* 的dataId可以获得数据对应的元数据信息。"
   ]
  },
  {
   "cell_type": "code",
   "execution_count": 46,
   "metadata": {
    "scrolled": true
   },
   "outputs": [
    {
     "name": "stdout",
     "output_type": "stream",
     "text": [
      "{'dataId': 'LC80101172015002LGN00', 'dataName': 'LC80101172015002LGN00', 'sourceType': 'landsat8', 'produceTime': 1420214316384, 'importTime': 1420214316384, 'dataUrl': 'https://s3-us-west-2.amazonaws.com/landsat-pds/L8/010/117/LC80101172015002LGN00/index.html', 'thumbnailUrl': {'small': 'https://s3-us-west-2.amazonaws.com/landsat-pds/L8/010/117/LC80101172015002LGN00/LC80101172015002LGN00_thumb_small.jpg', 'large': 'https://s3-us-west-2.amazonaws.com/landsat-pds/L8/010/117/LC80101172015002LGN00/LC80101172015002LGN00_thumb_large.jpg'}, 'bandInfo': [{'bandwith': '[0.43,0.45]', 'resolution': '30m', 'description': 'Band 1 Costal'}, {'bandwith': '[0.45,0.51]', 'resolution': '30m', 'description': 'Band 2 Blue'}, {'bandwith': '[0.53,0.59]', 'resolution': '30m', 'description': 'Band 3 Green'}, {'bandwith': '[0.64,0.67]', 'resolution': '30m', 'description': 'Band 4 Red'}, {'bandwith': '[0.85,0.88]', 'resolution': '30m', 'description': 'Band 5 NIR'}, {'bandwith': '[1.57,1.65]', 'resolution': '30m', 'description': 'Band 6 SWIR 1'}, {'bandwith': '[2.11,2.29]', 'resolution': '30m', 'description': 'Band 7 SWIR 2'}, {'bandwith': '[0.5,0.68]', 'resolution': '15m', 'description': 'Band 8 Pan'}, {'bandwith': '[1.36,1.38]', 'resolution': '30m', 'description': 'Band 9 Cirrus'}, {'bandwith': '[10.6,11.19]', 'resolution': '100m', 'description': 'Band 10 TIRS1'}, {'bandwith': '[11.5,12.51]', 'resolution': '100m', 'description': 'Band 11 TIRS2'}], 'boundary': 'POLYGON((-139.66082 -79.09923,-125.09297 -79.09923,-125.09297 -77.7544,-139.66082 -77.7544,-139.66082 -79.09923))', 'metadataProperties': [{'propertiesName': 'cloudCover', 'propertiesType': 'float', 'propertiesValue': '80.81'}, {'propertiesName': 'path', 'propertiesType': 'int', 'propertiesValue': '10'}, {'propertiesName': 'row', 'propertiesType': 'int', 'propertiesValue': '117'}, {'propertiesName': 'processingLevel', 'propertiesType': 'string', 'propertiesValue': 'L1GT'}]}\n"
     ]
    }
   ],
   "source": [
    "re = catalog.get(\"LC80101172015002LGN00\")\n",
    "print(re)"
   ]
  },
  {
   "cell_type": "markdown",
   "metadata": {},
   "source": [
    "元数据太多太复杂？geogenius提供了`get_strip_footprint_wkt()`方法获取数据的boundary信息，`get_strip_metadata()`方法获取元数据的属性信息，`get_data_location()`获取数据的下载地址"
   ]
  },
  {
   "cell_type": "code",
   "execution_count": 47,
   "metadata": {},
   "outputs": [],
   "source": [
    "catalog.get_strip_footprint_wkt(\"64c4ff57-7cee-4ec6-9301-9f4e9f1570af\")"
   ]
  },
  {
   "cell_type": "code",
   "execution_count": 48,
   "metadata": {},
   "outputs": [],
   "source": [
    "catalog.get_strip_metadata(\"64c4ff57-7cee-4ec6-9301-9f4e9f1570af\")"
   ]
  },
  {
   "cell_type": "code",
   "execution_count": 49,
   "metadata": {},
   "outputs": [],
   "source": [
    "catalog.get_data_location(\"64c4ff57-7cee-4ec6-9301-9f4e9f1570af\")"
   ]
  },
  {
   "cell_type": "markdown",
   "metadata": {},
   "source": [
    "## 2.条件检索\n",
    "\n",
    "Catalog类提供了`search()`方法来精确搜索各类型的数据，有如下参数：\n",
    "- source_type: String,数据源类型. __必填__.  Example:`source_type=\"S3Tiff\"`\n",
    "- boundary: WKT 格式的点或者多边形.  Optional. Example:`boundary= \"POLYGON((167.76247 67.14986,173.80027 67.14986,173.80027 69.34499,167.76247 69.34499,167.76247 67.14986))\"` 或者 `POINT(36.45,92.92)`\n",
    "- filters:条件检索数组.根据空间区域、数据生产时间、数据类型、所有者、过滤条件进行数据检索. 当`source_type=\"landsat8\"`时，Example:`filters = [\"cloudCover < 10\",\"path = 10\",\"row=15\"]`\n",
    "- start_resolution: float, 可选，对S3Tiff有效. Example: `start_resolution=10`\n",
    "\n",
    "- end_resolution: float,可选. Example :`end_resolution = 20`\n",
    "- start_time: int. 可选.  Example:`start_time = 1548713541091`\n",
    "- end_time: int.可选.  Example:`end_time=1568713541091`\n",
    "- limit: int. 返回结果的最大长度，默认最大返回1000条(值大于1000也最多返回1000条数据), Optional. Example: `\"limit=1000\"`"
   ]
  },
  {
   "cell_type": "code",
   "execution_count": 33,
   "metadata": {
    "scrolled": true
   },
   "outputs": [
    {
     "data": {
      "text/plain": [
       "[{'dataId': 'LC80980122013101LGN01',\n",
       "  'dataName': 'LC80980122013101LGN01',\n",
       "  'sourceType': 'landsat8',\n",
       "  'produceTime': 1365639355609,\n",
       "  'importTime': 1365639355609,\n",
       "  'dataUrl': 'https://s3-us-west-2.amazonaws.com/landsat-pds/L8/098/012/LC80980122013101LGN01/index.html',\n",
       "  'thumbnailUrl': {'small': 'https://s3-us-west-2.amazonaws.com/landsat-pds/L8/098/012/LC80980122013101LGN01/LC80980122013101LGN01_thumb_small.jpg',\n",
       "   'large': 'https://s3-us-west-2.amazonaws.com/landsat-pds/L8/098/012/LC80980122013101LGN01/LC80980122013101LGN01_thumb_large.jpg'},\n",
       "  'bandInfo': [{'bandwith': '[0.43,0.45]',\n",
       "    'resolution': '30m',\n",
       "    'description': 'Band 1 Costal'},\n",
       "   {'bandwith': '[0.45,0.51]',\n",
       "    'resolution': '30m',\n",
       "    'description': 'Band 2 Blue'},\n",
       "   {'bandwith': '[0.53,0.59]',\n",
       "    'resolution': '30m',\n",
       "    'description': 'Band 3 Green'},\n",
       "   {'bandwith': '[0.64,0.67]',\n",
       "    'resolution': '30m',\n",
       "    'description': 'Band 4 Red'},\n",
       "   {'bandwith': '[0.85,0.88]',\n",
       "    'resolution': '30m',\n",
       "    'description': 'Band 5 NIR'},\n",
       "   {'bandwith': '[1.57,1.65]',\n",
       "    'resolution': '30m',\n",
       "    'description': 'Band 6 SWIR 1'},\n",
       "   {'bandwith': '[2.11,2.29]',\n",
       "    'resolution': '30m',\n",
       "    'description': 'Band 7 SWIR 2'},\n",
       "   {'bandwith': '[0.5,0.68]',\n",
       "    'resolution': '15m',\n",
       "    'description': 'Band 8 Pan'},\n",
       "   {'bandwith': '[1.36,1.38]',\n",
       "    'resolution': '30m',\n",
       "    'description': 'Band 9 Cirrus'},\n",
       "   {'bandwith': '[10.6,11.19]',\n",
       "    'resolution': '100m',\n",
       "    'description': 'Band 10 TIRS1'},\n",
       "   {'bandwith': '[11.5,12.51]',\n",
       "    'resolution': '100m',\n",
       "    'description': 'Band 11 TIRS2'}],\n",
       "  'boundary': 'POLYGON((167.76247 67.14986,173.80027 67.14986,173.80027 69.34499,167.76247 69.34499,167.76247 67.14986))',\n",
       "  'metadataProperties': [{'propertiesName': 'cloudCover',\n",
       "    'propertiesType': 'float',\n",
       "    'propertiesValue': '1.11'},\n",
       "   {'propertiesName': 'path',\n",
       "    'propertiesType': 'int',\n",
       "    'propertiesValue': '98'},\n",
       "   {'propertiesName': 'row', 'propertiesType': 'int', 'propertiesValue': '12'},\n",
       "   {'propertiesName': 'processingLevel',\n",
       "    'propertiesType': 'string',\n",
       "    'propertiesValue': 'L1T'}]}]"
      ]
     },
     "execution_count": 33,
     "metadata": {},
     "output_type": "execute_result"
    }
   ],
   "source": [
    "catalog.search(boundary=\"POLYGON((167.76247 67.14986,173.80027 67.14986,173.80027 69.34499,167.76247 69.34499,167.76247 67.14986))\",start_time= 165610509046,\n",
    "end_time= 1480816776404,filters=[\"cloudCover<10\"],source_type=\"landsat8\",limit=1)"
   ]
  },
  {
   "cell_type": "markdown",
   "metadata": {},
   "source": [
    "`search_point`提供了通过已知点搜索数据的服务，相比`search()`方法移除了boundary,增加lng,lat2个参数,其它参数不变。"
   ]
  },
  {
   "cell_type": "code",
   "execution_count": 40,
   "metadata": {
    "scrolled": false
   },
   "outputs": [
    {
     "name": "stdout",
     "output_type": "stream",
     "text": [
      "[{'dataId': 'LC80980132013101LGN01', 'dataName': 'LC80980132013101LGN01', 'sourceType': 'landsat8', 'produceTime': 1365640220992, 'importTime': 1365640220992, 'dataUrl': 'https://s3-us-west-2.amazonaws.com/landsat-pds/L8/098/013/LC80980132013101LGN01/index.html', 'thumbnailUrl': {'small': 'https://s3-us-west-2.amazonaws.com/landsat-pds/L8/098/013/LC80980132013101LGN01/LC80980132013101LGN01_thumb_small.jpg', 'large': 'https://s3-us-west-2.amazonaws.com/landsat-pds/L8/098/013/LC80980132013101LGN01/LC80980132013101LGN01_thumb_large.jpg'}, 'bandInfo': [{'bandwith': '[0.43,0.45]', 'resolution': '30m', 'description': 'Band 1 Costal'}, {'bandwith': '[0.45,0.51]', 'resolution': '30m', 'description': 'Band 2 Blue'}, {'bandwith': '[0.53,0.59]', 'resolution': '30m', 'description': 'Band 3 Green'}, {'bandwith': '[0.64,0.67]', 'resolution': '30m', 'description': 'Band 4 Red'}, {'bandwith': '[0.85,0.88]', 'resolution': '30m', 'description': 'Band 5 NIR'}, {'bandwith': '[1.57,1.65]', 'resolution': '30m', 'description': 'Band 6 SWIR 1'}, {'bandwith': '[2.11,2.29]', 'resolution': '30m', 'description': 'Band 7 SWIR 2'}, {'bandwith': '[0.5,0.68]', 'resolution': '15m', 'description': 'Band 8 Pan'}, {'bandwith': '[1.36,1.38]', 'resolution': '30m', 'description': 'Band 9 Cirrus'}, {'bandwith': '[10.6,11.19]', 'resolution': '100m', 'description': 'Band 10 TIRS1'}, {'bandwith': '[11.5,12.51]', 'resolution': '100m', 'description': 'Band 11 TIRS2'}], 'boundary': 'POLYGON((166.35299 65.78304,172.19764 65.78304,172.19764 67.97781,166.35299 67.97781,166.35299 65.78304))', 'metadataProperties': [{'propertiesName': 'cloudCover', 'propertiesType': 'float', 'propertiesValue': '1.03'}, {'propertiesName': 'path', 'propertiesType': 'int', 'propertiesValue': '98'}, {'propertiesName': 'row', 'propertiesType': 'int', 'propertiesValue': '13'}, {'propertiesName': 'processingLevel', 'propertiesType': 'string', 'propertiesValue': 'L1T'}]}, {'dataId': 'LC80990132013108LGN01', 'dataName': 'LC80990132013108LGN01', 'sourceType': 'landsat8', 'produceTime': 1366244665040, 'importTime': 1366244665040, 'dataUrl': 'https://s3-us-west-2.amazonaws.com/landsat-pds/L8/099/013/LC80990132013108LGN01/index.html', 'thumbnailUrl': {'small': 'https://s3-us-west-2.amazonaws.com/landsat-pds/L8/099/013/LC80990132013108LGN01/LC80990132013108LGN01_thumb_small.jpg', 'large': 'https://s3-us-west-2.amazonaws.com/landsat-pds/L8/099/013/LC80990132013108LGN01/LC80990132013108LGN01_thumb_large.jpg'}, 'bandInfo': [{'bandwith': '[0.43,0.45]', 'resolution': '30m', 'description': 'Band 1 Costal'}, {'bandwith': '[0.45,0.51]', 'resolution': '30m', 'description': 'Band 2 Blue'}, {'bandwith': '[0.53,0.59]', 'resolution': '30m', 'description': 'Band 3 Green'}, {'bandwith': '[0.64,0.67]', 'resolution': '30m', 'description': 'Band 4 Red'}, {'bandwith': '[0.85,0.88]', 'resolution': '30m', 'description': 'Band 5 NIR'}, {'bandwith': '[1.57,1.65]', 'resolution': '30m', 'description': 'Band 6 SWIR 1'}, {'bandwith': '[2.11,2.29]', 'resolution': '30m', 'description': 'Band 7 SWIR 2'}, {'bandwith': '[0.5,0.68]', 'resolution': '15m', 'description': 'Band 8 Pan'}, {'bandwith': '[1.36,1.38]', 'resolution': '30m', 'description': 'Band 9 Cirrus'}, {'bandwith': '[10.6,11.19]', 'resolution': '100m', 'description': 'Band 10 TIRS1'}, {'bandwith': '[11.5,12.51]', 'resolution': '100m', 'description': 'Band 11 TIRS2'}], 'boundary': 'POLYGON((165.27033 65.75777,171.27158 65.75777,171.27158 67.96519,165.27033 67.96519,165.27033 65.75777))', 'metadataProperties': [{'propertiesName': 'cloudCover', 'propertiesType': 'float', 'propertiesValue': '8.37'}, {'propertiesName': 'path', 'propertiesType': 'int', 'propertiesValue': '99'}, {'propertiesName': 'row', 'propertiesType': 'int', 'propertiesValue': '13'}, {'propertiesName': 'processingLevel', 'propertiesType': 'string', 'propertiesValue': 'L1T'}]}, {'dataId': 'LC80980132013117LGN01', 'dataName': 'LC80980132013117LGN01', 'sourceType': 'landsat8', 'produceTime': 1367022279066, 'importTime': 1367022279066, 'dataUrl': 'https://s3-us-west-2.amazonaws.com/landsat-pds/L8/098/013/LC80980132013117LGN01/index.html', 'thumbnailUrl': {'small': 'https://s3-us-west-2.amazonaws.com/landsat-pds/L8/098/013/LC80980132013117LGN01/LC80980132013117LGN01_thumb_small.jpg', 'large': 'https://s3-us-west-2.amazonaws.com/landsat-pds/L8/098/013/LC80980132013117LGN01/LC80980132013117LGN01_thumb_large.jpg'}, 'bandInfo': [{'bandwith': '[0.43,0.45]', 'resolution': '30m', 'description': 'Band 1 Costal'}, {'bandwith': '[0.45,0.51]', 'resolution': '30m', 'description': 'Band 2 Blue'}, {'bandwith': '[0.53,0.59]', 'resolution': '30m', 'description': 'Band 3 Green'}, {'bandwith': '[0.64,0.67]', 'resolution': '30m', 'description': 'Band 4 Red'}, {'bandwith': '[0.85,0.88]', 'resolution': '30m', 'description': 'Band 5 NIR'}, {'bandwith': '[1.57,1.65]', 'resolution': '30m', 'description': 'Band 6 SWIR 1'}, {'bandwith': '[2.11,2.29]', 'resolution': '30m', 'description': 'Band 7 SWIR 2'}, {'bandwith': '[0.5,0.68]', 'resolution': '15m', 'description': 'Band 8 Pan'}, {'bandwith': '[1.36,1.38]', 'resolution': '30m', 'description': 'Band 9 Cirrus'}, {'bandwith': '[10.6,11.19]', 'resolution': '100m', 'description': 'Band 10 TIRS1'}, {'bandwith': '[11.5,12.51]', 'resolution': '100m', 'description': 'Band 11 TIRS2'}], 'boundary': 'POLYGON((166.93364 65.79417,172.74893 65.79417,172.74893 67.98511,166.93364 67.98511,166.93364 65.79417))', 'metadataProperties': [{'propertiesName': 'cloudCover', 'propertiesType': 'float', 'propertiesValue': '6.72'}, {'propertiesName': 'path', 'propertiesType': 'int', 'propertiesValue': '98'}, {'propertiesName': 'row', 'propertiesType': 'int', 'propertiesValue': '13'}, {'propertiesName': 'processingLevel', 'propertiesType': 'string', 'propertiesValue': 'L1T'}]}, {'dataId': 'LC80920132013170LGN00', 'dataName': 'LC80920132013170LGN00', 'sourceType': 'landsat8', 'produceTime': 1371685758955, 'importTime': 1371685758955, 'dataUrl': 'https://s3-us-west-2.amazonaws.com/landsat-pds/L8/092/013/LC80920132013170LGN00/index.html', 'thumbnailUrl': {'small': 'https://s3-us-west-2.amazonaws.com/landsat-pds/L8/092/013/LC80920132013170LGN00/LC80920132013170LGN00_thumb_small.jpg', 'large': 'https://s3-us-west-2.amazonaws.com/landsat-pds/L8/092/013/LC80920132013170LGN00/LC80920132013170LGN00_thumb_large.jpg'}, 'bandInfo': [{'bandwith': '[0.43,0.45]', 'resolution': '30m', 'description': 'Band 1 Costal'}, {'bandwith': '[0.45,0.51]', 'resolution': '30m', 'description': 'Band 2 Blue'}, {'bandwith': '[0.53,0.59]', 'resolution': '30m', 'description': 'Band 3 Green'}, {'bandwith': '[0.64,0.67]', 'resolution': '30m', 'description': 'Band 4 Red'}, {'bandwith': '[0.85,0.88]', 'resolution': '30m', 'description': 'Band 5 NIR'}, {'bandwith': '[1.57,1.65]', 'resolution': '30m', 'description': 'Band 6 SWIR 1'}, {'bandwith': '[2.11,2.29]', 'resolution': '30m', 'description': 'Band 7 SWIR 2'}, {'bandwith': '[0.5,0.68]', 'resolution': '15m', 'description': 'Band 8 Pan'}, {'bandwith': '[1.36,1.38]', 'resolution': '30m', 'description': 'Band 9 Cirrus'}, {'bandwith': '[10.6,11.19]', 'resolution': '100m', 'description': 'Band 10 TIRS1'}, {'bandwith': '[11.5,12.51]', 'resolution': '100m', 'description': 'Band 11 TIRS2'}], 'boundary': 'POLYGON((-178.19945 65.80172,176.44306 65.80172,176.44306 68.02073,-178.19945 68.02073,-178.19945 65.80172))', 'metadataProperties': [{'propertiesName': 'cloudCover', 'propertiesType': 'float', 'propertiesValue': '7.94'}, {'propertiesName': 'path', 'propertiesType': 'int', 'propertiesValue': '92'}, {'propertiesName': 'row', 'propertiesType': 'int', 'propertiesValue': '13'}, {'propertiesName': 'processingLevel', 'propertiesType': 'string', 'propertiesValue': 'L1T'}]}, {'dataId': 'LC80920132013218LGN00', 'dataName': 'LC80920132013218LGN00', 'sourceType': 'landsat8', 'produceTime': 1375833074578, 'importTime': 1375833074578, 'dataUrl': 'https://s3-us-west-2.amazonaws.com/landsat-pds/L8/092/013/LC80920132013218LGN00/index.html', 'thumbnailUrl': {'small': 'https://s3-us-west-2.amazonaws.com/landsat-pds/L8/092/013/LC80920132013218LGN00/LC80920132013218LGN00_thumb_small.jpg', 'large': 'https://s3-us-west-2.amazonaws.com/landsat-pds/L8/092/013/LC80920132013218LGN00/LC80920132013218LGN00_thumb_large.jpg'}, 'bandInfo': [{'bandwith': '[0.43,0.45]', 'resolution': '30m', 'description': 'Band 1 Costal'}, {'bandwith': '[0.45,0.51]', 'resolution': '30m', 'description': 'Band 2 Blue'}, {'bandwith': '[0.53,0.59]', 'resolution': '30m', 'description': 'Band 3 Green'}, {'bandwith': '[0.64,0.67]', 'resolution': '30m', 'description': 'Band 4 Red'}, {'bandwith': '[0.85,0.88]', 'resolution': '30m', 'description': 'Band 5 NIR'}, {'bandwith': '[1.57,1.65]', 'resolution': '30m', 'description': 'Band 6 SWIR 1'}, {'bandwith': '[2.11,2.29]', 'resolution': '30m', 'description': 'Band 7 SWIR 2'}, {'bandwith': '[0.5,0.68]', 'resolution': '15m', 'description': 'Band 8 Pan'}, {'bandwith': '[1.36,1.38]', 'resolution': '30m', 'description': 'Band 9 Cirrus'}, {'bandwith': '[10.6,11.19]', 'resolution': '100m', 'description': 'Band 10 TIRS1'}, {'bandwith': '[11.5,12.51]', 'resolution': '100m', 'description': 'Band 11 TIRS2'}], 'boundary': 'POLYGON((-178.17733 65.74437,176.37209 65.74437,176.37209 68.07692,-178.17733 68.07692,-178.17733 65.74437))', 'metadataProperties': [{'propertiesName': 'cloudCover', 'propertiesType': 'float', 'propertiesValue': '9.76'}, {'propertiesName': 'path', 'propertiesType': 'int', 'propertiesValue': '92'}, {'propertiesName': 'row', 'propertiesType': 'int', 'propertiesValue': '13'}, {'propertiesName': 'processingLevel', 'propertiesType': 'string', 'propertiesValue': 'L1T'}]}, {'dataId': 'LC80930132013225LGN00', 'dataName': 'LC80930132013225LGN00', 'sourceType': 'landsat8', 'produceTime': 1376437529579, 'importTime': 1376437529579, 'dataUrl': 'https://s3-us-west-2.amazonaws.com/landsat-pds/L8/093/013/LC80930132013225LGN00/index.html', 'thumbnailUrl': {'small': 'https://s3-us-west-2.amazonaws.com/landsat-pds/L8/093/013/LC80930132013225LGN00/LC80930132013225LGN00_thumb_small.jpg', 'large': 'https://s3-us-west-2.amazonaws.com/landsat-pds/L8/093/013/LC80930132013225LGN00/LC80930132013225LGN00_thumb_large.jpg'}, 'bandInfo': [{'bandwith': '[0.43,0.45]', 'resolution': '30m', 'description': 'Band 1 Costal'}, {'bandwith': '[0.45,0.51]', 'resolution': '30m', 'description': 'Band 2 Blue'}, {'bandwith': '[0.53,0.59]', 'resolution': '30m', 'description': 'Band 3 Green'}, {'bandwith': '[0.64,0.67]', 'resolution': '30m', 'description': 'Band 4 Red'}, {'bandwith': '[0.85,0.88]', 'resolution': '30m', 'description': 'Band 5 NIR'}, {'bandwith': '[1.57,1.65]', 'resolution': '30m', 'description': 'Band 6 SWIR 1'}, {'bandwith': '[2.11,2.29]', 'resolution': '30m', 'description': 'Band 7 SWIR 2'}, {'bandwith': '[0.5,0.68]', 'resolution': '15m', 'description': 'Band 8 Pan'}, {'bandwith': '[1.36,1.38]', 'resolution': '30m', 'description': 'Band 9 Cirrus'}, {'bandwith': '[10.6,11.19]', 'resolution': '100m', 'description': 'Band 10 TIRS1'}, {'bandwith': '[11.5,12.51]', 'resolution': '100m', 'description': 'Band 11 TIRS2'}], 'boundary': 'POLYGON((-179.62458 65.75629,174.86553 65.75629,174.86553 68.05904,-179.62458 68.05904,-179.62458 65.75629))', 'metadataProperties': [{'propertiesName': 'cloudCover', 'propertiesType': 'float', 'propertiesValue': '1.27'}, {'propertiesName': 'path', 'propertiesType': 'int', 'propertiesValue': '93'}, {'propertiesName': 'row', 'propertiesType': 'int', 'propertiesValue': '13'}, {'propertiesName': 'processingLevel', 'propertiesType': 'string', 'propertiesValue': 'L1T'}]}, {'dataId': 'LC81000132013227LGN00', 'dataName': 'LC81000132013227LGN00', 'sourceType': 'landsat8', 'produceTime': 1376527045463, 'importTime': 1376527045463, 'dataUrl': 'https://s3-us-west-2.amazonaws.com/landsat-pds/L8/100/013/LC81000132013227LGN00/index.html', 'thumbnailUrl': {'small': 'https://s3-us-west-2.amazonaws.com/landsat-pds/L8/100/013/LC81000132013227LGN00/LC81000132013227LGN00_thumb_small.jpg', 'large': 'https://s3-us-west-2.amazonaws.com/landsat-pds/L8/100/013/LC81000132013227LGN00/LC81000132013227LGN00_thumb_large.jpg'}, 'bandInfo': [{'bandwith': '[0.43,0.45]', 'resolution': '30m', 'description': 'Band 1 Costal'}, {'bandwith': '[0.45,0.51]', 'resolution': '30m', 'description': 'Band 2 Blue'}, {'bandwith': '[0.53,0.59]', 'resolution': '30m', 'description': 'Band 3 Green'}, {'bandwith': '[0.64,0.67]', 'resolution': '30m', 'description': 'Band 4 Red'}, {'bandwith': '[0.85,0.88]', 'resolution': '30m', 'description': 'Band 5 NIR'}, {'bandwith': '[1.57,1.65]', 'resolution': '30m', 'description': 'Band 6 SWIR 1'}, {'bandwith': '[2.11,2.29]', 'resolution': '30m', 'description': 'Band 7 SWIR 2'}, {'bandwith': '[0.5,0.68]', 'resolution': '15m', 'description': 'Band 8 Pan'}, {'bandwith': '[1.36,1.38]', 'resolution': '30m', 'description': 'Band 9 Cirrus'}, {'bandwith': '[10.6,11.19]', 'resolution': '100m', 'description': 'Band 10 TIRS1'}, {'bandwith': '[11.5,12.51]', 'resolution': '100m', 'description': 'Band 11 TIRS2'}], 'boundary': 'POLYGON((163.92256 65.74667,169.48201 65.74667,169.48201 68.07215,163.92256 68.07215,163.92256 65.74667))', 'metadataProperties': [{'propertiesName': 'cloudCover', 'propertiesType': 'float', 'propertiesValue': '0.01'}, {'propertiesName': 'path', 'propertiesType': 'int', 'propertiesValue': '100'}, {'propertiesName': 'row', 'propertiesType': 'int', 'propertiesValue': '13'}, {'propertiesName': 'processingLevel', 'propertiesType': 'string', 'propertiesValue': 'L1T'}]}, {'dataId': 'LC81000132013243LGN00', 'dataName': 'LC81000132013243LGN00', 'sourceType': 'landsat8', 'produceTime': 1377909122755, 'importTime': 1377909122755, 'dataUrl': 'https://s3-us-west-2.amazonaws.com/landsat-pds/L8/100/013/LC81000132013243LGN00/index.html', 'thumbnailUrl': {'small': 'https://s3-us-west-2.amazonaws.com/landsat-pds/L8/100/013/LC81000132013243LGN00/LC81000132013243LGN00_thumb_small.jpg', 'large': 'https://s3-us-west-2.amazonaws.com/landsat-pds/L8/100/013/LC81000132013243LGN00/LC81000132013243LGN00_thumb_large.jpg'}, 'bandInfo': [{'bandwith': '[0.43,0.45]', 'resolution': '30m', 'description': 'Band 1 Costal'}, {'bandwith': '[0.45,0.51]', 'resolution': '30m', 'description': 'Band 2 Blue'}, {'bandwith': '[0.53,0.59]', 'resolution': '30m', 'description': 'Band 3 Green'}, {'bandwith': '[0.64,0.67]', 'resolution': '30m', 'description': 'Band 4 Red'}, {'bandwith': '[0.85,0.88]', 'resolution': '30m', 'description': 'Band 5 NIR'}, {'bandwith': '[1.57,1.65]', 'resolution': '30m', 'description': 'Band 6 SWIR 1'}, {'bandwith': '[2.11,2.29]', 'resolution': '30m', 'description': 'Band 7 SWIR 2'}, {'bandwith': '[0.5,0.68]', 'resolution': '15m', 'description': 'Band 8 Pan'}, {'bandwith': '[1.36,1.38]', 'resolution': '30m', 'description': 'Band 9 Cirrus'}, {'bandwith': '[10.6,11.19]', 'resolution': '100m', 'description': 'Band 10 TIRS1'}, {'bandwith': '[11.5,12.51]', 'resolution': '100m', 'description': 'Band 11 TIRS2'}], 'boundary': 'POLYGON((163.90097 65.74705,169.46896 65.74705,169.46896 68.07201,163.90097 68.07201,163.90097 65.74705))', 'metadataProperties': [{'propertiesName': 'cloudCover', 'propertiesType': 'float', 'propertiesValue': '0.25'}, {'propertiesName': 'path', 'propertiesType': 'int', 'propertiesValue': '100'}, {'propertiesName': 'row', 'propertiesType': 'int', 'propertiesValue': '13'}, {'propertiesName': 'processingLevel', 'propertiesType': 'string', 'propertiesValue': 'L1T'}]}, {'dataId': 'LC80910132013243LGN00', 'dataName': 'LC80910132013243LGN00', 'sourceType': 'landsat8', 'produceTime': 1377992773501, 'importTime': 1377992773501, 'dataUrl': 'https://s3-us-west-2.amazonaws.com/landsat-pds/L8/091/013/LC80910132013243LGN00/index.html', 'thumbnailUrl': {'small': 'https://s3-us-west-2.amazonaws.com/landsat-pds/L8/091/013/LC80910132013243LGN00/LC80910132013243LGN00_thumb_small.jpg', 'large': 'https://s3-us-west-2.amazonaws.com/landsat-pds/L8/091/013/LC80910132013243LGN00/LC80910132013243LGN00_thumb_large.jpg'}, 'bandInfo': [{'bandwith': '[0.43,0.45]', 'resolution': '30m', 'description': 'Band 1 Costal'}, {'bandwith': '[0.45,0.51]', 'resolution': '30m', 'description': 'Band 2 Blue'}, {'bandwith': '[0.53,0.59]', 'resolution': '30m', 'description': 'Band 3 Green'}, {'bandwith': '[0.64,0.67]', 'resolution': '30m', 'description': 'Band 4 Red'}, {'bandwith': '[0.85,0.88]', 'resolution': '30m', 'description': 'Band 5 NIR'}, {'bandwith': '[1.57,1.65]', 'resolution': '30m', 'description': 'Band 6 SWIR 1'}, {'bandwith': '[2.11,2.29]', 'resolution': '30m', 'description': 'Band 7 SWIR 2'}, {'bandwith': '[0.5,0.68]', 'resolution': '15m', 'description': 'Band 8 Pan'}, {'bandwith': '[1.36,1.38]', 'resolution': '30m', 'description': 'Band 9 Cirrus'}, {'bandwith': '[10.6,11.19]', 'resolution': '100m', 'description': 'Band 10 TIRS1'}, {'bandwith': '[11.5,12.51]', 'resolution': '100m', 'description': 'Band 11 TIRS2'}], 'boundary': 'POLYGON((-176.36195 65.70709,178.02489 65.70709,178.02489 68.02264,-176.36195 68.02264,-176.36195 65.70709))', 'metadataProperties': [{'propertiesName': 'cloudCover', 'propertiesType': 'float', 'propertiesValue': '2.09'}, {'propertiesName': 'path', 'propertiesType': 'int', 'propertiesValue': '91'}, {'propertiesName': 'row', 'propertiesType': 'int', 'propertiesValue': '13'}, {'propertiesName': 'processingLevel', 'propertiesType': 'string', 'propertiesValue': 'L1T'}]}, {'dataId': 'LC80980132013277LGN00', 'dataName': 'LC80980132013277LGN00', 'sourceType': 'landsat8', 'produceTime': 1380845886961, 'importTime': 1380845886961, 'dataUrl': 'https://s3-us-west-2.amazonaws.com/landsat-pds/L8/098/013/LC80980132013277LGN00/index.html', 'thumbnailUrl': {'small': 'https://s3-us-west-2.amazonaws.com/landsat-pds/L8/098/013/LC80980132013277LGN00/LC80980132013277LGN00_thumb_small.jpg', 'large': 'https://s3-us-west-2.amazonaws.com/landsat-pds/L8/098/013/LC80980132013277LGN00/LC80980132013277LGN00_thumb_large.jpg'}, 'bandInfo': [{'bandwith': '[0.43,0.45]', 'resolution': '30m', 'description': 'Band 1 Costal'}, {'bandwith': '[0.45,0.51]', 'resolution': '30m', 'description': 'Band 2 Blue'}, {'bandwith': '[0.53,0.59]', 'resolution': '30m', 'description': 'Band 3 Green'}, {'bandwith': '[0.64,0.67]', 'resolution': '30m', 'description': 'Band 4 Red'}, {'bandwith': '[0.85,0.88]', 'resolution': '30m', 'description': 'Band 5 NIR'}, {'bandwith': '[1.57,1.65]', 'resolution': '30m', 'description': 'Band 6 SWIR 1'}, {'bandwith': '[2.11,2.29]', 'resolution': '30m', 'description': 'Band 7 SWIR 2'}, {'bandwith': '[0.5,0.68]', 'resolution': '15m', 'description': 'Band 8 Pan'}, {'bandwith': '[1.36,1.38]', 'resolution': '30m', 'description': 'Band 9 Cirrus'}, {'bandwith': '[10.6,11.19]', 'resolution': '100m', 'description': 'Band 10 TIRS1'}, {'bandwith': '[11.5,12.51]', 'resolution': '100m', 'description': 'Band 11 TIRS2'}], 'boundary': 'POLYGON((166.80182 65.73771,172.75184 65.73771,172.75184 68.03841,166.80182 68.03841,166.80182 65.73771))', 'metadataProperties': [{'propertiesName': 'cloudCover', 'propertiesType': 'float', 'propertiesValue': '9.05'}, {'propertiesName': 'path', 'propertiesType': 'int', 'propertiesValue': '98'}, {'propertiesName': 'row', 'propertiesType': 'int', 'propertiesValue': '13'}, {'propertiesName': 'processingLevel', 'propertiesType': 'string', 'propertiesValue': 'L1T'}]}]\n"
     ]
    }
   ],
   "source": [
    "cataloglist = catalog.search_point(lng=167,lat=67,start_time= 165610509046,end_time= 1480816776404,filters=[\"cloudCover<10\"],source_type=\"landsat8\",limit=2)\n",
    "print(cataloglist)"
   ]
  },
  {
   "cell_type": "markdown",
   "metadata": {},
   "source": [
    "geogenius 提供了`get_most_recent_images()`方法将元数据列表根据生产时间进行排序获得相近的数据"
   ]
  },
  {
   "cell_type": "code",
   "execution_count": 41,
   "metadata": {
    "scrolled": false
   },
   "outputs": [
    {
     "data": {
      "text/plain": [
       "[{'dataId': 'LC80980132013277LGN00',\n",
       "  'dataName': 'LC80980132013277LGN00',\n",
       "  'sourceType': 'landsat8',\n",
       "  'produceTime': 1380845886961,\n",
       "  'importTime': 1380845886961,\n",
       "  'dataUrl': 'https://s3-us-west-2.amazonaws.com/landsat-pds/L8/098/013/LC80980132013277LGN00/index.html',\n",
       "  'thumbnailUrl': {'small': 'https://s3-us-west-2.amazonaws.com/landsat-pds/L8/098/013/LC80980132013277LGN00/LC80980132013277LGN00_thumb_small.jpg',\n",
       "   'large': 'https://s3-us-west-2.amazonaws.com/landsat-pds/L8/098/013/LC80980132013277LGN00/LC80980132013277LGN00_thumb_large.jpg'},\n",
       "  'bandInfo': [{'bandwith': '[0.43,0.45]',\n",
       "    'resolution': '30m',\n",
       "    'description': 'Band 1 Costal'},\n",
       "   {'bandwith': '[0.45,0.51]',\n",
       "    'resolution': '30m',\n",
       "    'description': 'Band 2 Blue'},\n",
       "   {'bandwith': '[0.53,0.59]',\n",
       "    'resolution': '30m',\n",
       "    'description': 'Band 3 Green'},\n",
       "   {'bandwith': '[0.64,0.67]',\n",
       "    'resolution': '30m',\n",
       "    'description': 'Band 4 Red'},\n",
       "   {'bandwith': '[0.85,0.88]',\n",
       "    'resolution': '30m',\n",
       "    'description': 'Band 5 NIR'},\n",
       "   {'bandwith': '[1.57,1.65]',\n",
       "    'resolution': '30m',\n",
       "    'description': 'Band 6 SWIR 1'},\n",
       "   {'bandwith': '[2.11,2.29]',\n",
       "    'resolution': '30m',\n",
       "    'description': 'Band 7 SWIR 2'},\n",
       "   {'bandwith': '[0.5,0.68]',\n",
       "    'resolution': '15m',\n",
       "    'description': 'Band 8 Pan'},\n",
       "   {'bandwith': '[1.36,1.38]',\n",
       "    'resolution': '30m',\n",
       "    'description': 'Band 9 Cirrus'},\n",
       "   {'bandwith': '[10.6,11.19]',\n",
       "    'resolution': '100m',\n",
       "    'description': 'Band 10 TIRS1'},\n",
       "   {'bandwith': '[11.5,12.51]',\n",
       "    'resolution': '100m',\n",
       "    'description': 'Band 11 TIRS2'}],\n",
       "  'boundary': 'POLYGON((166.80182 65.73771,172.75184 65.73771,172.75184 68.03841,166.80182 68.03841,166.80182 65.73771))',\n",
       "  'metadataProperties': [{'propertiesName': 'cloudCover',\n",
       "    'propertiesType': 'float',\n",
       "    'propertiesValue': '9.05'},\n",
       "   {'propertiesName': 'path',\n",
       "    'propertiesType': 'int',\n",
       "    'propertiesValue': '98'},\n",
       "   {'propertiesName': 'row', 'propertiesType': 'int', 'propertiesValue': '13'},\n",
       "   {'propertiesName': 'processingLevel',\n",
       "    'propertiesType': 'string',\n",
       "    'propertiesValue': 'L1T'}]},\n",
       " {'dataId': 'LC80910132013243LGN00',\n",
       "  'dataName': 'LC80910132013243LGN00',\n",
       "  'sourceType': 'landsat8',\n",
       "  'produceTime': 1377992773501,\n",
       "  'importTime': 1377992773501,\n",
       "  'dataUrl': 'https://s3-us-west-2.amazonaws.com/landsat-pds/L8/091/013/LC80910132013243LGN00/index.html',\n",
       "  'thumbnailUrl': {'small': 'https://s3-us-west-2.amazonaws.com/landsat-pds/L8/091/013/LC80910132013243LGN00/LC80910132013243LGN00_thumb_small.jpg',\n",
       "   'large': 'https://s3-us-west-2.amazonaws.com/landsat-pds/L8/091/013/LC80910132013243LGN00/LC80910132013243LGN00_thumb_large.jpg'},\n",
       "  'bandInfo': [{'bandwith': '[0.43,0.45]',\n",
       "    'resolution': '30m',\n",
       "    'description': 'Band 1 Costal'},\n",
       "   {'bandwith': '[0.45,0.51]',\n",
       "    'resolution': '30m',\n",
       "    'description': 'Band 2 Blue'},\n",
       "   {'bandwith': '[0.53,0.59]',\n",
       "    'resolution': '30m',\n",
       "    'description': 'Band 3 Green'},\n",
       "   {'bandwith': '[0.64,0.67]',\n",
       "    'resolution': '30m',\n",
       "    'description': 'Band 4 Red'},\n",
       "   {'bandwith': '[0.85,0.88]',\n",
       "    'resolution': '30m',\n",
       "    'description': 'Band 5 NIR'},\n",
       "   {'bandwith': '[1.57,1.65]',\n",
       "    'resolution': '30m',\n",
       "    'description': 'Band 6 SWIR 1'},\n",
       "   {'bandwith': '[2.11,2.29]',\n",
       "    'resolution': '30m',\n",
       "    'description': 'Band 7 SWIR 2'},\n",
       "   {'bandwith': '[0.5,0.68]',\n",
       "    'resolution': '15m',\n",
       "    'description': 'Band 8 Pan'},\n",
       "   {'bandwith': '[1.36,1.38]',\n",
       "    'resolution': '30m',\n",
       "    'description': 'Band 9 Cirrus'},\n",
       "   {'bandwith': '[10.6,11.19]',\n",
       "    'resolution': '100m',\n",
       "    'description': 'Band 10 TIRS1'},\n",
       "   {'bandwith': '[11.5,12.51]',\n",
       "    'resolution': '100m',\n",
       "    'description': 'Band 11 TIRS2'}],\n",
       "  'boundary': 'POLYGON((-176.36195 65.70709,178.02489 65.70709,178.02489 68.02264,-176.36195 68.02264,-176.36195 65.70709))',\n",
       "  'metadataProperties': [{'propertiesName': 'cloudCover',\n",
       "    'propertiesType': 'float',\n",
       "    'propertiesValue': '2.09'},\n",
       "   {'propertiesName': 'path',\n",
       "    'propertiesType': 'int',\n",
       "    'propertiesValue': '91'},\n",
       "   {'propertiesName': 'row', 'propertiesType': 'int', 'propertiesValue': '13'},\n",
       "   {'propertiesName': 'processingLevel',\n",
       "    'propertiesType': 'string',\n",
       "    'propertiesValue': 'L1T'}]}]"
      ]
     },
     "execution_count": 41,
     "metadata": {},
     "output_type": "execute_result"
    }
   ],
   "source": [
    "catalog.get_most_recent_images(cataloglist,source_types=[\"landsat8\"],N=2)"
   ]
  }
 ],
 "metadata": {
  "kernelspec": {
   "display_name": "Python 3",
   "language": "python",
   "name": "python3"
  },
  "language_info": {
   "codemirror_mode": {
    "name": "ipython",
    "version": 3
   },
   "file_extension": ".py",
   "mimetype": "text/x-python",
   "name": "python",
   "nbconvert_exporter": "python",
   "pygments_lexer": "ipython3",
   "version": "3.7.3"
  },
  "toc": {
   "base_numbering": 1,
   "sideBar": true,
   "toc_position": {
    "height": "calc(100% - 180px)",
    "left": "10px",
    "top": "150px",
    "width": "968.292px"
   },
   "toc_section_display": true,
   "toc_window_display": true
  }
 },
 "nbformat": 4,
 "nbformat_minor": 2
}
